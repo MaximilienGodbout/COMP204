{
 "cells": [
  {
   "cell_type": "markdown",
   "metadata": {},
   "source": [
    "# COMP 364: Sequence Handling with BioPython"
   ]
  },
  {
   "cell_type": "markdown",
   "metadata": {},
   "source": [
    "# BioPython\n",
    "\n",
    "BioPython is a very popular third party Python package for handling biological data.\n",
    "\n",
    "In order to install:\n",
    "\n",
    "```\n",
    "conda install biopython\n",
    "```\n",
    "\n",
    "BioPython has three major functionalities:\n",
    "\n",
    "* Sequence Handling\n",
    "* 3D Structure\n",
    "* Population Genetics\n",
    "\n",
    "Today we'll cover sequence handling and next time we will do 3D structure handling, and if there is time we may do some Population Genetics.\n",
    "\n",
    "Some useful references: [tutorial](http://biopython.org/DIST/docs/tutorial/Tutorial.html), [website](http://biopython.org/), [wiki](http://biopython.org/wiki/Category%3AWiki_Documentation) (most of my examples are coming from these sources).\n",
    " \n",
    "# `BioPython.Seq`\n",
    "\n",
    "The main object we'll be dealing with are sequences. This is handled by the `Seq` class.\n",
    "\n",
    "As we know, we can have DNA, RNA, and Protein sequences.\n",
    "\n",
    "BioPython helps us cleanly distinguish and do different things with different kinds of sequences."
   ]
  },
  {
   "cell_type": "code",
   "execution_count": 35,
   "metadata": {},
   "outputs": [
    {
     "name": "stdout",
     "output_type": "stream",
     "text": [
      "<class 'Bio.Seq.Seq'>\n",
      "['__add__', '__class__', '__contains__', '__delattr__', '__dict__', '__dir__', '__doc__', '__eq__', '__format__', '__ge__', '__getattribute__', '__getitem__', '__gt__', '__hash__', '__imul__', '__init__', '__init_subclass__', '__le__', '__len__', '__lt__', '__module__', '__mul__', '__ne__', '__new__', '__radd__', '__reduce__', '__reduce_ex__', '__repr__', '__rmul__', '__setattr__', '__sizeof__', '__str__', '__subclasshook__', '__weakref__', '_data', '_get_seq_str_and_check_alphabet', 'alphabet', 'back_transcribe', 'complement', 'count', 'count_overlap', 'endswith', 'find', 'lower', 'lstrip', 'reverse_complement', 'rfind', 'rsplit', 'rstrip', 'split', 'startswith', 'strip', 'tomutable', 'tostring', 'transcribe', 'translate', 'ungap', 'upper']\n",
      "['alphabet', 'back_transcribe', 'complement', 'count', 'count_overlap', 'endswith', 'find', 'lower', 'lstrip', 'reverse_complement', 'rfind', 'rsplit', 'rstrip', 'split', 'startswith', 'strip', 'tomutable', 'tostring', 'transcribe', 'translate', 'ungap', 'upper']\n"
     ]
    }
   ],
   "source": [
    "#let's make a generic sequence\n",
    "\n",
    "from Bio.Seq import Seq\n",
    "\n",
    "my_seq = Seq(\"CCCGGAGAGA\")\n",
    "print(type(my_seq))\n",
    "#let's see what attributes this object has\n",
    "print(dir(my_seq))"
   ]
  },
  {
   "cell_type": "markdown",
   "metadata": {},
   "source": [
    "It seems like there is a lot we can do with this object.\n",
    "\n",
    "The problem is at this point Python doesn't know what kind of sequence this is (DNA, RNA, Protein).\n",
    "\n",
    "We have to specify what kind of \"Alphabet\" the sequence belongs to."
   ]
  },
  {
   "cell_type": "code",
   "execution_count": 36,
   "metadata": {},
   "outputs": [
    {
     "name": "stdout",
     "output_type": "stream",
     "text": [
      "Alphabet()\n"
     ]
    },
    {
     "data": {
      "text/plain": [
       "Bio.Alphabet.Alphabet"
      ]
     },
     "execution_count": 36,
     "metadata": {},
     "output_type": "execute_result"
    }
   ],
   "source": [
    "#right now it has just a generic alphabet\n",
    "print(my_seq.alphabet)"
   ]
  },
  {
   "cell_type": "code",
   "execution_count": 3,
   "metadata": {},
   "outputs": [],
   "source": [
    "from Bio.Alphabet import generic_dna, generic_protein, generic_rna\n",
    "\n",
    "my_dna = Seq(\"CCCGGAGAG\", generic_dna)\n",
    "my_rna = Seq(\"ACCCGUUGU\", generic_rna)\n",
    "my_protein = Seq(\"AKKKGGGUUULL\", generic_protein)"
   ]
  },
  {
   "cell_type": "markdown",
   "metadata": {},
   "source": [
    "Biopython will now know the difference for example between a DNA base `A` for adenine and the protein residue `A` for alanine.\n",
    "\n",
    "Now we can do some cool things.\n",
    "\n",
    "We can perform the main actions of the central dogma: transcribe and translate."
   ]
  },
  {
   "cell_type": "code",
   "execution_count": 39,
   "metadata": {},
   "outputs": [
    {
     "name": "stdout",
     "output_type": "stream",
     "text": [
      "AUGGCCAUUGUAAUGGGCCGCUGAAAGGGUGCCCGAUAG\n",
      "MAIVMGR*KGAR*\n"
     ]
    }
   ],
   "source": [
    "my_gene = Seq(\"ATGGCCATTGTAATGGGCCGCTGAAAGGGTGCCCGATAG\", generic_dna)\n",
    "\n",
    "#get the mRNA\n",
    "\n",
    "my_transcript = my_gene.transcribe()\n",
    "print(my_transcript)\n",
    "\n",
    "#get the protein from the mRNA\n",
    "my_protein = my_transcript.translate()\n",
    "print(my_protein)"
   ]
  },
  {
   "cell_type": "markdown",
   "metadata": {},
   "source": [
    "As you can see, we got some STOP codons represented as `*` and translation continued.\n",
    "\n",
    "We can get translation to actually stop when it encounters a STOP codon."
   ]
  },
  {
   "cell_type": "code",
   "execution_count": 6,
   "metadata": {},
   "outputs": [
    {
     "name": "stdout",
     "output_type": "stream",
     "text": [
      "MAIVMGR\n"
     ]
    }
   ],
   "source": [
    "myprot = coding_dna.translate(to_stop=True)\n",
    "print(myprot)"
   ]
  },
  {
   "cell_type": "markdown",
   "metadata": {},
   "source": [
    "### General sequence methods\n",
    "\n",
    "There are some convenient operations for dealing with sequences."
   ]
  },
  {
   "cell_type": "markdown",
   "metadata": {},
   "source": [
    "We can concatenate sequences if they are of matching type."
   ]
  },
  {
   "cell_type": "code",
   "execution_count": 41,
   "metadata": {},
   "outputs": [
    {
     "name": "stdout",
     "output_type": "stream",
     "text": [
      "AAACGGAGGAGAT\n"
     ]
    }
   ],
   "source": [
    "seq1 = Seq(\"AAACGGA\", generic_dna)\n",
    "seq2 = Seq(\"GGAGAT\", generic_dna)\n",
    "\n",
    "print(seq1 + seq2)"
   ]
  },
  {
   "cell_type": "markdown",
   "metadata": {},
   "source": [
    "We can also index and slice as though we had strings."
   ]
  },
  {
   "cell_type": "code",
   "execution_count": 42,
   "metadata": {},
   "outputs": [
    {
     "name": "stdout",
     "output_type": "stream",
     "text": [
      "AAT\n"
     ]
    }
   ],
   "source": [
    "print(seq1[:2] + seq2[-1])"
   ]
  },
  {
   "cell_type": "markdown",
   "metadata": {},
   "source": [
    "`Seq` objects are immutable, just like strings."
   ]
  },
  {
   "cell_type": "code",
   "execution_count": 11,
   "metadata": {},
   "outputs": [
    {
     "ename": "TypeError",
     "evalue": "'Seq' object does not support item assignment",
     "output_type": "error",
     "traceback": [
      "\u001b[0;31m---------------------------------------------------------------------------\u001b[0m",
      "\u001b[0;31mTypeError\u001b[0m                                 Traceback (most recent call last)",
      "\u001b[0;32m<ipython-input-11-63a2f93c4add>\u001b[0m in \u001b[0;36m<module>\u001b[0;34m()\u001b[0m\n\u001b[0;32m----> 1\u001b[0;31m \u001b[0mseq1\u001b[0m\u001b[0;34m[\u001b[0m\u001b[0;36m2\u001b[0m\u001b[0;34m]\u001b[0m \u001b[0;34m=\u001b[0m \u001b[0;34m\"G\"\u001b[0m\u001b[0;34m\u001b[0m\u001b[0m\n\u001b[0m",
      "\u001b[0;31mTypeError\u001b[0m: 'Seq' object does not support item assignment"
     ]
    }
   ],
   "source": [
    "seq1[2] = \"G\""
   ]
  },
  {
   "cell_type": "markdown",
   "metadata": {},
   "source": [
    "There is another type of object called a `MutableSeq`. If we want to support mutability we can convert a `Seq` object to a `MutableSeq` object quite easily."
   ]
  },
  {
   "cell_type": "code",
   "execution_count": 12,
   "metadata": {},
   "outputs": [
    {
     "data": {
      "text/plain": [
       "MutableSeq('AAACGGA', DNAAlphabet())"
      ]
     },
     "execution_count": 12,
     "metadata": {},
     "output_type": "execute_result"
    }
   ],
   "source": [
    "mut_seq = seq1.tomutable()\n",
    "mut_seq"
   ]
  },
  {
   "cell_type": "code",
   "execution_count": 13,
   "metadata": {},
   "outputs": [
    {
     "name": "stdout",
     "output_type": "stream",
     "text": [
      "GAACGGA\n"
     ]
    }
   ],
   "source": [
    "mut_seq[0] = \"G\"\n",
    "print(mut_seq)"
   ]
  },
  {
   "cell_type": "markdown",
   "metadata": {},
   "source": [
    "We can also do searching inside sequences."
   ]
  },
  {
   "cell_type": "code",
   "execution_count": 14,
   "metadata": {},
   "outputs": [
    {
     "name": "stdout",
     "output_type": "stream",
     "text": [
      "3\n",
      "2\n"
     ]
    }
   ],
   "source": [
    "myseq = Seq(\"CCAGAAACCCGGAA\", generic_dna)\n",
    "\n",
    "#find the first occurence of the pattern\n",
    "print(myseq.find(\"GAA\"))\n",
    "\n",
    "#find the number of non-overlapping occurrences of a pattern\n",
    "print(myseq.count(\"GAA\"))"
   ]
  },
  {
   "cell_type": "markdown",
   "metadata": {},
   "source": [
    "# Sequence alignment\n",
    "\n",
    "Say you isolated some piece of DNA in the lab and obtained its sequence.\n",
    "\n",
    "You now want to find out which organism that sequence belongs to.\n",
    "\n",
    "You ask a biologist and they tell you to just \"BLAST it\".\n",
    "\n",
    "As you may know already, this is essentially the same as \"Google it\" for biologists.\n",
    "\n",
    "BLAST is an alignment algorithm that searches for your sequence of interest in a huge database of sequences whose origins are known.\n",
    "\n",
    "If you didn't know BioPython, you would take your sequence `CTCTCCCAGCTGAGCTATAGCCCCAATGCGCACATAATAAATCGTGTGAACGGGGCGCATGATATGAGAC` \n",
    "and go to the [NCBI BLAST web server](https://blast.ncbi.nlm.nih.gov/Blast.cgi?PROGRAM=blastn&PAGE_TYPE=BlastSearch&LINK_LOC=blasthome) and click on buttons like a monkey.\n",
    "\n",
    "Thanks to BioPython we can do this programatically!\n",
    "\n",
    "The `qblast` method from the `Bio.Blast.NCBIWWW` module essentially sends our sequence to the BLAST web server.\n",
    "\n",
    "Here we are using the \"nucleotice BLAST\" algorithm so we say `blastn` and we are using it on the database of all nucleotide sequences, called `nt`.\n"
   ]
  },
  {
   "cell_type": "code",
   "execution_count": 54,
   "metadata": {},
   "outputs": [],
   "source": [
    "from Bio.Blast import NCBIWWW\n",
    "s = Seq(\"CTCTCCCAGCTGAGCTATAGCCCCAATGCGCACATAATAAATCGTGTGAACGGGGCGCATGATATGAGAC\", generic_dna)\n",
    "result_handle = NCBIWWW.qblast(\"blastn\", \"nt\", s)"
   ]
  },
  {
   "cell_type": "markdown",
   "metadata": {},
   "source": [
    "We wait a few seconds and get a `result_handle` which is like a temporary open file that we can read from.\n",
    "\n",
    "The format of this file is in XML so not easy to read, thankfully BioPython has an XML parser that extracts all the information for us."
   ]
  },
  {
   "cell_type": "code",
   "execution_count": 51,
   "metadata": {},
   "outputs": [],
   "source": [
    "from Bio.Blast import NCBIXML\n",
    "blast_records = NCBIXML.parse(result_handle)"
   ]
  },
  {
   "cell_type": "markdown",
   "metadata": {},
   "source": [
    "We get an \"iterator\" of BLAST record objects, or \"search results\". We can now loop over each of our search results and print some information.\n",
    "\n",
    "Here I am looping over all the results which each have an attribute `alignments` which are the alignments of our query sequence to some organism in the database.\n",
    "\n",
    "The `alignment` attribute itself has other attributes like the `query` sequence, the `length` and `title` of the matching organism.."
   ]
  },
  {
   "cell_type": "code",
   "execution_count": 53,
   "metadata": {},
   "outputs": [],
   "source": [
    "for b in blast_records:\n",
    "    for alignment in b.alignments:\n",
    "        for hsp in alignment.hsps:\n",
    "            print('****Alignment****')\n",
    "            print('sequence:', alignment.title)\n",
    "            print('length:', alignment.length)\n",
    "            print('e value:', hsp.expect)\n",
    "            print(hsp.query[0:75] + '...')\n",
    "            print(hsp.match[0:75] + '...')\n",
    "            print(hsp.sbjct[0:75] + '...')"
   ]
  },
  {
   "cell_type": "markdown",
   "metadata": {},
   "source": [
    "# `SeqRecord` and `SeqIO`\n",
    "\n",
    "Often, sequences have some additional information associated to them. \n",
    "\n",
    "A good example was the BLAST exercise which gave us sequences associated to specific organisms, and genomic locations.\n",
    "\n",
    "Ideally we would want to be able to keep this information along with our `Seq` if we have it.\n",
    "\n",
    "BioPython lets us do this with the `SeqRecord` and `SeqIO` classes.\n",
    "\n",
    "\n",
    "## Parsing with `SeqIO`\n",
    "\n",
    "The `SeqIO` class which stands for Sequence Input/Output lets us read and write from various sequence annotation file formats which are common in biological databases.\n",
    "\n",
    "I went to the [GenBank](https://www.ncbi.nlm.nih.gov/genbank/) sequence database and looked for some sequence related to the Bubonic Plague (Yersinia Pestis bacteria) [here](https://www.ncbi.nlm.nih.gov/nuccore/NZ_ADRZ01000932.1?report=fasta).\n",
    "\n",
    "\n",
    "\n",
    "We get a `fasta` file which is very common for sequence annotations so BioPython can parse it for us automatically.\n",
    "\n",
    "The annotation for a FASTA sequence is typically held in the header:\n",
    "\n",
    "```\n",
    ">NZ_ADRZ01000932.1 Yersinia pestis biovar Antiqua str. E1979001 Contig_E1979001_19275, whole genome shotgun sequence\n",
    "```\n",
    "\n",
    "The `SeqIO.parse` takes a path to a file and a format, in this case \"fasta\" and produces an iteratror over each entry in the fasta file.\n",
    "\n",
    "Each item produced by the iterator is a `SeqRecords` object.\n"
   ]
  },
  {
   "cell_type": "code",
   "execution_count": 64,
   "metadata": {},
   "outputs": [
    {
     "name": "stdout",
     "output_type": "stream",
     "text": [
      "ID: NZ_ADRZ01000932.1\n",
      "Name: NZ_ADRZ01000932.1\n",
      "Description: NZ_ADRZ01000932.1 Yersinia pestis biovar Antiqua str. E1979001 Contig_E1979001_19275, whole genome shotgun sequence\n",
      "Number of features: 0\n",
      "Seq('CTCTCCCAGCTGAGCTATAGCCCCAATGCGCACATAATAAATCGTGTGAACGGG...AGC', SingleLetterAlphabet())\n"
     ]
    }
   ],
   "source": [
    "from Bio import SeqIO\n",
    "\n",
    "record = SeqIO.read(\"plague.fa\", \"fasta\")\n",
    "print(record)"
   ]
  },
  {
   "cell_type": "markdown",
   "metadata": {},
   "source": [
    "The `SeqRecords` object has some useful attributes.\n",
    "\n",
    "The object contains a `Seq` object witih the sequence info."
   ]
  },
  {
   "cell_type": "code",
   "execution_count": 65,
   "metadata": {},
   "outputs": [
    {
     "name": "stdout",
     "output_type": "stream",
     "text": [
      "CTCTCCCAGCTGAGCTATAGCCCCAATGCGCACATAATAAATCGTGTGAACGGGGCGCATGATATGAGACCCCCGAAACTGTGTCAACGGCTAAATCGATTTCTCGTGTTAAGCGCTGAAAAAGCGGCCAAATCAGCCTGCAAATAACATAATAAGTGGAATGATGTTCACAAATTTGTTGTCACACCGCTGCTGTTATCAAATATAATAAATATCCTCCGGCATAGC\n"
     ]
    }
   ],
   "source": [
    "print(record.seq)"
   ]
  },
  {
   "cell_type": "code",
   "execution_count": 61,
   "metadata": {},
   "outputs": [
    {
     "name": "stdout",
     "output_type": "stream",
     "text": [
      "ID: YP_025292.1\n",
      "Name: HokC\n",
      "Description: toxic membrane protein, small\n",
      "Number of features: 0\n",
      "Seq('MKQHKAMIVALIVICITAVVAALVTRKDLCEVHIRTGQTEVAVF', IUPACProtein())\n"
     ]
    }
   ],
   "source": [
    "print(record)"
   ]
  },
  {
   "cell_type": "code",
   "execution_count": 66,
   "metadata": {},
   "outputs": [
    {
     "name": "stdout",
     "output_type": "stream",
     "text": [
      "NZ_ADRZ01000932.1\n"
     ]
    }
   ],
   "source": [
    "print(record.id)"
   ]
  },
  {
   "cell_type": "code",
   "execution_count": 9,
   "metadata": {},
   "outputs": [
    {
     "name": "stdout",
     "output_type": "stream",
     "text": [
      "NZ_ADRZ01000932.1 Yersinia pestis biovar Antiqua str. E1979001 Contig_E1979001_19275, whole genome shotgun sequence\n"
     ]
    }
   ],
   "source": [
    "print(record.description)"
   ]
  },
  {
   "cell_type": "markdown",
   "metadata": {},
   "source": [
    "We can also create our own `SeqRecord` objects."
   ]
  },
  {
   "cell_type": "code",
   "execution_count": 27,
   "metadata": {},
   "outputs": [
    {
     "name": "stdout",
     "output_type": "stream",
     "text": [
      "ID: YP_025292.1\n",
      "Name: HokC\n",
      "Description: toxic membrane protein, small\n",
      "Number of features: 0\n",
      "Seq('MKQHKAMIVALIVICITAVVAALVTRKDLCEVHIRTGQTEVAVF', IUPACProtein())\n"
     ]
    }
   ],
   "source": [
    "from Bio.Seq import Seq\n",
    "from Bio.SeqRecord import SeqRecord\n",
    "from Bio.Alphabet import IUPAC\n",
    "record = SeqRecord(Seq(\"MKQHKAMIVALIVICITAVVAALVTRKDLCEVHIRTGQTEVAVF\",\n",
    "                       IUPAC.protein),\n",
    "                   id=\"YP_025292.1\", name=\"HokC\",\n",
    "                   description=\"toxic membrane protein, small\")\n",
    "print(record)"
   ]
  },
  {
   "cell_type": "markdown",
   "metadata": {},
   "source": [
    "Then we can write it to FASTA format."
   ]
  },
  {
   "cell_type": "code",
   "execution_count": 68,
   "metadata": {},
   "outputs": [
    {
     "data": {
      "text/plain": [
       "'>NZ_ADRZ01000932.1 Yersinia pestis biovar Antiqua str. E1979001 Contig_E1979001_19275, whole genome shotgun sequence\\nCTCTCCCAGCTGAGCTATAGCCCCAATGCGCACATAATAAATCGTGTGAACGGGGCGCAT\\nGATATGAGACCCCCGAAACTGTGTCAACGGCTAAATCGATTTCTCGTGTTAAGCGCTGAA\\nAAAGCGGCCAAATCAGCCTGCAAATAACATAATAAGTGGAATGATGTTCACAAATTTGTT\\nGTCACACCGCTGCTGTTATCAAATATAATAAATATCCTCCGGCATAGC\\n'"
      ]
     },
     "execution_count": 68,
     "metadata": {},
     "output_type": "execute_result"
    }
   ],
   "source": [
    "record.format(\"fasta\")"
   ]
  },
  {
   "cell_type": "markdown",
   "metadata": {},
   "source": [
    "And then store it in a file. \n",
    "\n",
    "So now we know how to read sequence information, as well as produce our own sequence records and store them."
   ]
  },
  {
   "cell_type": "code",
   "execution_count": 67,
   "metadata": {},
   "outputs": [],
   "source": [
    "f = open(\"myfasta.fa\", \"w\")\n",
    "f.write(record.format(\"fasta\"))\n",
    "f.close()    "
   ]
  },
  {
   "cell_type": "markdown",
   "metadata": {},
   "source": [
    "## Making Multiple Sequence Alignments and Phylogenetic Trees\n",
    "\n",
    "Another thing biologists like to do is align (essentially, compare) sequences.\n",
    "\n",
    "If we line up two sequences on top of each other, we can look at the parts where they are different and infer many useful pieces of information.\n",
    "\n",
    "One of these pieces of information is the phylogeny.\n",
    "\n",
    "i.e. we can take a guess at how evolution took place to explain a particular set of observed sequences.\n",
    "\n",
    "\n",
    "\n",
    "### Step 1: Obtain some sequences and align them\n",
    "\n",
    "Use the fasta file p53.fa found here: http://www.cs.mcgill.ca/~blanchem/204/Slides/25/p53.fa\n",
    "and use the Clustal Omega tool https://www.ebi.ac.uk/Tools/msa/clustalo/\n",
    "to produce a multiple sequence alignment. The result is here: http://www.cs.mcgill.ca/~blanchem/204/Slides/25/p53.aln"
   ]
  },
  {
   "cell_type": "markdown",
   "metadata": {},
   "source": [
    "\n",
    "### Step 3: Load the resulting alignment"
   ]
  },
  {
   "cell_type": "code",
   "execution_count": 69,
   "metadata": {},
   "outputs": [
    {
     "name": "stdout",
     "output_type": "stream",
     "text": [
      "[SeqRecord(seq=Seq('ATAAAATGTCTAGCCCGCCAAATG'), id='0', name='<unknown name>', description='<unknown description>', dbxrefs=[]), SeqRecord(seq=Seq('GCACCAGGTCTAGCCCGCCACTTG'), id='1', name='<unknown name>', description='<unknown description>', dbxrefs=[]), SeqRecord(seq=Seq('GTCCCAGGTTTAGCCCGCTAGAGG'), id='2', name='<unknown name>', description='<unknown description>', dbxrefs=[]), SeqRecord(seq=Seq('CTACCAGGTCTAGCCCGCCACATG'), id='3', name='<unknown name>', description='<unknown description>', dbxrefs=[]), SeqRecord(seq=Seq('CTACCAGGTGAAGCCCGCCACATG'), id='4', name='<unknown name>', description='<unknown description>', dbxrefs=[]), SeqRecord(seq=Seq('GAACGAGGTCTGGCCCGCGACATG'), id='5', name='<unknown name>', description='<unknown description>', dbxrefs=[]), SeqRecord(seq=Seq('GTACCAGGTCTAGCCCACCACATG'), id='6', name='<unknown name>', description='<unknown description>', dbxrefs=[]), SeqRecord(seq=Seq('GTACCAGGTCTTGCCCGCCACAAG'), id='7', name='<unknown name>', description='<unknown description>', dbxrefs=[]), SeqRecord(seq=Seq('GTACAAGGTCTAGCCCGCCACATG'), id='8', name='<unknown name>', description='<unknown description>', dbxrefs=[]), SeqRecord(seq=Seq('ATACCGGGTCTTGCCTGCCCCACG'), id='9', name='<unknown name>', description='<unknown description>', dbxrefs=[]), SeqRecord(seq=Seq('GTACCAGGTCTATCCCGCCAAATG'), id='10', name='<unknown name>', description='<unknown description>', dbxrefs=[]), SeqRecord(seq=Seq('GTGCCAGGTCTAACCCGCCACATA'), id='11', name='<unknown name>', description='<unknown description>', dbxrefs=[]), SeqRecord(seq=Seq('GTACCAGGTCTAGCCCGCGACATG'), id='12', name='<unknown name>', description='<unknown description>', dbxrefs=[]), SeqRecord(seq=Seq('GTTCCAGGTCTAGCCCGCCACATG'), id='13', name='<unknown name>', description='<unknown description>', dbxrefs=[]), SeqRecord(seq=Seq('TTTCCAGCTCTAGCCCGCCATATG'), id='14', name='<unknown name>', description='<unknown description>', dbxrefs=[]), SeqRecord(seq=Seq('GTACCAGGTCTAGCCCGCCACTTG'), id='15', name='<unknown name>', description='<unknown description>', dbxrefs=[]), SeqRecord(seq=Seq('GGACCAGGTCTAGCCCGCCACATA'), id='16', name='<unknown name>', description='<unknown description>', dbxrefs=[]), SeqRecord(seq=Seq('GTACCAGGTCTAGCCCGCAACGTG'), id='17', name='<unknown name>', description='<unknown description>', dbxrefs=[]), SeqRecord(seq=Seq('GTACCAGGTCTAGCCCACCACATG'), id='18', name='<unknown name>', description='<unknown description>', dbxrefs=[]), SeqRecord(seq=Seq('ATACCATGTCTAGCCCGCCACATG'), id='19', name='<unknown name>', description='<unknown description>', dbxrefs=[])]\n"
     ]
    }
   ],
   "source": [
    "import random\n",
    "\n",
    "#generate some random sequences based on a random seed sequence\n",
    "mut = 0.1\n",
    "BASES = {\"A\", \"C\", \"G\", \"T\"}\n",
    "seqs = []\n",
    "seed = \"\".join([random.choice(list(BASES)) for _ in range(25 + random.choice([-1, 0, 1]))])\n",
    "\n",
    "seq_records = []\n",
    "\n",
    "for i in range(20):\n",
    "    new_seq = \"\".join([b if random.random() > mut else random.choice(list(BASES - {b}))\\\n",
    "        for b in seed])\n",
    "    #create a seq record\n",
    "    seq_records.append(SeqRecord(Seq(new_seq), id=str(i)))\n",
    "    \n",
    "print(seq_records)"
   ]
  },
  {
   "cell_type": "markdown",
   "metadata": {},
   "source": [
    "Now that we have `SeqRecord` objects we can align them.\n",
    "\n",
    "To do so, we need to put them in a `fasta` file.\n",
    "\n",
    "### Step 2: Align the sequences"
   ]
  },
  {
   "cell_type": "code",
   "execution_count": 80,
   "metadata": {},
   "outputs": [
    {
     "name": "stdout",
     "output_type": "stream",
     "text": [
      "SingleLetterAlphabet() alignment with 7 rows and 70 columns\n",
      "ctcataaggtaccaccacgctgtggcgaaaagtctgcctgtctt...cct mouse\n",
      "ctcatacggtaccaccacgctgtgccgaaaagtctgcctgtcgt...cct rat\n",
      "ctcgtagggcaccacgacgctatgtcgga---tgtttctgtcgt...cct cat\n",
      "ctcataaggcaccaccacactgtgtcgaa---tgtttctgtcgt...cct dog\n",
      "ctcatagggcaccaccacactgtgtctaaaggtgttccggtcgt...cct cow\n",
      "ctcatagggcaccaccacactatgtcgaaaagtgtttctgtcat...cct human\n",
      "ctcatagggcaccaccacactatgtcgaaaagtgtttctgtcat...cct baboon\n"
     ]
    }
   ],
   "source": [
    "#open the alignmnent file\n",
    "from Bio import AlignIO\n",
    "aln = open(\"p53.aln\", \"r\")\n",
    "#use AlignIO to read the alignment file in 'clustal' format\n",
    "alignment = AlignIO.read(aln, \"clustal\")\n",
    "\n",
    "print(alignment)"
   ]
  },
  {
   "cell_type": "code",
   "execution_count": 71,
   "metadata": {},
   "outputs": [],
   "source": [
    "#write our sequences to fasta format\n",
    "with open(\"seqs.fasta\", \"w\") as f:\n",
    "    SeqIO.write(seq_records, f, \"fasta\")"
   ]
  },
  {
   "cell_type": "markdown",
   "metadata": {},
   "source": [
    "We can parse the alignment with the `AlignIO` module from BioPython.\n",
    "\n",
    "I won't go into detail on this module but it has a lot of useful funcionality for dealing with sequence alignments.\n"
   ]
  },
  {
   "cell_type": "markdown",
   "metadata": {},
   "source": [
    "### Step 4: Use the alignment to obtain a \"distance\" between all pairs of sequences\n",
    "\n",
    "Using the parsed alignment, we can get the distance (or difference) between all the sequences.\n",
    "\n",
    "This just tells us, for each pair of sequences, how different they are."
   ]
  },
  {
   "cell_type": "code",
   "execution_count": 81,
   "metadata": {},
   "outputs": [
    {
     "name": "stdout",
     "output_type": "stream",
     "text": [
      "mouse\t0\n",
      "rat\t0.09999999999999998\t0\n",
      "cat\t0.27142857142857146\t0.2857142857142857\t0\n",
      "dog\t0.22857142857142854\t0.2571428571428571\t0.12857142857142856\t0\n",
      "cow\t0.2571428571428571\t0.2571428571428571\t0.2857142857142857\t0.19999999999999996\t0\n",
      "human\t0.2142857142857143\t0.22857142857142854\t0.2142857142857143\t0.17142857142857137\t0.1428571428571429\t0\n",
      "baboon\t0.22857142857142854\t0.24285714285714288\t0.22857142857142854\t0.18571428571428572\t0.15714285714285714\t0.014285714285714235\t0\n",
      "\tmouse\trat\tcat\tdog\tcow\thuman\tbaboon\n"
     ]
    }
   ],
   "source": [
    "from Bio.Phylo.TreeConstruction import DistanceCalculator\n",
    "\n",
    "#calculate the distance matrix\n",
    "calculator = DistanceCalculator('identity')\n",
    "#adds distance matrix to the calculator object and returns it\n",
    "dm = calculator.get_distance(alignment)\n",
    "print(dm)"
   ]
  },
  {
   "cell_type": "markdown",
   "metadata": {},
   "source": [
    "### Step 5: Construct a tree from the set of distances\n",
    "\n",
    "And finally, we can construct a phylogenetic tree from the pairwise distances between all the sequences."
   ]
  },
  {
   "cell_type": "code",
   "execution_count": 82,
   "metadata": {},
   "outputs": [],
   "source": [
    "from Bio.Phylo.TreeConstruction import DistanceTreeConstructor\n",
    "\n",
    "#initialize a DistanceTreeConstructor object based on our distance calculator object\n",
    "constructor = DistanceTreeConstructor(calculator)\n",
    "\n",
    "#build the tree\n",
    "upgma_tree = constructor.build_tree(alignment)"
   ]
  },
  {
   "cell_type": "markdown",
   "metadata": {},
   "source": [
    "And let's use the `Phylo` module to visualize the result!"
   ]
  },
  {
   "cell_type": "code",
   "execution_count": 83,
   "metadata": {},
   "outputs": [
    {
     "data": {
      "image/png": "[encoded data removed]",
      "text/plain": [
       "<Figure size 432x288 with 1 Axes>"
      ]
     },
     "metadata": {},
     "output_type": "display_data"
    }
   ],
   "source": [
    "from Bio import Phylo\n",
    "import pylab\n",
    "#draw the tree\n",
    "Phylo.draw(upgma_tree)"
   ]
  },
  {
   "cell_type": "code",
   "execution_count": null,
   "metadata": {},
   "outputs": [],
   "source": []
  }
 ],
 "metadata": {
  "kernelspec": {
   "display_name": "Python 3",
   "language": "python",
   "name": "python3"
  },
  "language_info": {
   "codemirror_mode": {
    "name": "ipython",
    "version": 3
   },
   "file_extension": ".py",
   "mimetype": "text/x-python",
   "name": "python",
   "nbconvert_exporter": "python",
   "pygments_lexer": "ipython3",
   "version": "3.6.5"
  }
 },
 "nbformat": 4,
 "nbformat_minor": 2
}
